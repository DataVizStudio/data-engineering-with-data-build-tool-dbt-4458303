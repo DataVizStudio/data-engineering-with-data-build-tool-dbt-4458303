{
 "cells": [
  {
   "cell_type": "code",
   "execution_count": 6,
   "metadata": {},
   "outputs": [
    {
     "name": "stdout",
     "output_type": "stream",
     "text": [
      "Collecting pandas\n",
      "  Downloading pandas-2.2.1-cp39-cp39-win_amd64.whl (11.6 MB)\n",
      "Collecting pytz>=2020.1\n",
      "  Downloading pytz-2024.1-py2.py3-none-any.whl (505 kB)\n",
      "Collecting numpy<2,>=1.22.4; python_version < \"3.11\"\n",
      "  Downloading numpy-1.26.4-cp39-cp39-win_amd64.whl (15.8 MB)\n",
      "Collecting tzdata>=2022.7\n",
      "  Using cached tzdata-2024.1-py2.py3-none-any.whl (345 kB)\n",
      "Requirement already satisfied: python-dateutil>=2.8.2 in c:\\users\\kamran\\appdata\\roaming\\python\\python39\\site-packages (from pandas) (2.9.0.post0)\n",
      "Requirement already satisfied: six>=1.5 in c:\\users\\kamran\\appdata\\roaming\\python\\python39\\site-packages (from python-dateutil>=2.8.2->pandas) (1.16.0)\n",
      "Installing collected packages: pytz, numpy, tzdata, pandas\n",
      "Successfully installed numpy-1.26.4 pandas-2.2.1 pytz-2024.1 tzdata-2024.1\n",
      "Note: you may need to restart the kernel to use updated packages.\n"
     ]
    },
    {
     "name": "stderr",
     "output_type": "stream",
     "text": [
      "  WARNING: The script f2py.exe is installed in 'c:\\Users\\kamran\\AppData\\Local\\Programs\\Python\\Python39\\Scripts' which is not on PATH.\n",
      "  Consider adding this directory to PATH or, if you prefer to suppress this warning, use --no-warn-script-location.\n",
      "WARNING: You are using pip version 20.2.3; however, version 24.0 is available.\n",
      "You should consider upgrading via the 'c:\\Users\\kamran\\AppData\\Local\\Programs\\Python\\Python39\\python.exe -m pip install --upgrade pip' command.\n"
     ]
    }
   ],
   "source": [
    "pip install pandas"
   ]
  },
  {
   "cell_type": "code",
   "execution_count": 7,
   "metadata": {},
   "outputs": [],
   "source": [
    "import duckdb\n",
    "import pandas as pd"
   ]
  },
  {
   "cell_type": "code",
   "execution_count": 48,
   "metadata": {},
   "outputs": [
    {
     "data": {
      "text/html": [
       "<div>\n",
       "<style scoped>\n",
       "    .dataframe tbody tr th:only-of-type {\n",
       "        vertical-align: middle;\n",
       "    }\n",
       "\n",
       "    .dataframe tbody tr th {\n",
       "        vertical-align: top;\n",
       "    }\n",
       "\n",
       "    .dataframe thead th {\n",
       "        text-align: right;\n",
       "    }\n",
       "</style>\n",
       "<table border=\"1\" class=\"dataframe\">\n",
       "  <thead>\n",
       "    <tr style=\"text-align: right;\">\n",
       "      <th></th>\n",
       "      <th>summons_number</th>\n",
       "      <th>issue_date</th>\n",
       "      <th>violation_code</th>\n",
       "      <th>is_manhattan_96th_st_below</th>\n",
       "      <th>issuing_agency</th>\n",
       "      <th>violation_location</th>\n",
       "      <th>violation_precinct</th>\n",
       "      <th>issuer_precinct</th>\n",
       "      <th>issuer_code</th>\n",
       "      <th>issuer_command</th>\n",
       "      <th>issuer_squad</th>\n",
       "      <th>violation_time</th>\n",
       "      <th>violation_county</th>\n",
       "      <th>violation_legal_code</th>\n",
       "      <th>fee_usd</th>\n",
       "    </tr>\n",
       "  </thead>\n",
       "  <tbody>\n",
       "    <tr>\n",
       "      <th>0</th>\n",
       "      <td>1488028990</td>\n",
       "      <td>2029-09-11</td>\n",
       "      <td>71</td>\n",
       "      <td>False</td>\n",
       "      <td>P</td>\n",
       "      <td>43</td>\n",
       "      <td>43</td>\n",
       "      <td>0</td>\n",
       "      <td>972408</td>\n",
       "      <td>PSA8</td>\n",
       "      <td>0</td>\n",
       "      <td>0244P</td>\n",
       "      <td>BX</td>\n",
       "      <td>NaN</td>\n",
       "      <td>65</td>\n",
       "    </tr>\n",
       "    <tr>\n",
       "      <th>1</th>\n",
       "      <td>1488028990</td>\n",
       "      <td>2029-09-11</td>\n",
       "      <td>71</td>\n",
       "      <td>False</td>\n",
       "      <td>P</td>\n",
       "      <td>43</td>\n",
       "      <td>43</td>\n",
       "      <td>0</td>\n",
       "      <td>972408</td>\n",
       "      <td>PSA8</td>\n",
       "      <td>0</td>\n",
       "      <td>0244P</td>\n",
       "      <td>BX</td>\n",
       "      <td>NaN</td>\n",
       "      <td>65</td>\n",
       "    </tr>\n",
       "  </tbody>\n",
       "</table>\n",
       "</div>"
      ],
      "text/plain": [
       "   summons_number issue_date  violation_code  is_manhattan_96th_st_below  \\\n",
       "0      1488028990 2029-09-11              71                       False   \n",
       "1      1488028990 2029-09-11              71                       False   \n",
       "\n",
       "  issuing_agency  violation_location  violation_precinct  issuer_precinct  \\\n",
       "0              P                  43                  43                0   \n",
       "1              P                  43                  43                0   \n",
       "\n",
       "   issuer_code issuer_command issuer_squad violation_time violation_county  \\\n",
       "0       972408           PSA8            0          0244P               BX   \n",
       "1       972408           PSA8            0          0244P               BX   \n",
       "\n",
       "  violation_legal_code  fee_usd  \n",
       "0                  NaN       65  \n",
       "1                  NaN       65  "
      ]
     },
     "metadata": {},
     "output_type": "display_data"
    }
   ],
   "source": [
    "sql_query = '''\n",
    "SELECT * FROM \"nyc_parking_violations\".\"main\".\"silver_violation_tickets_materialize\"\n",
    "WHERE issue_date = '2029-09-11'\n",
    "-- SELECT summons_number, violation_code, COUNT(*) FROM \"nyc_parking_violations\".\"main\".\"silver_violation_tickets_materialize\"\n",
    "--GROUP BY summons_number, violation_code\n",
    "-- HAVING COUNT(*) = 1\n",
    "'''\n",
    "\n",
    "# sql_query = '''\n",
    "# truncate table \"nyc_parking_violations\".\"main\".\"silver_violation_tickets_materialize\"\n",
    "# '''\n",
    "\n",
    "with duckdb.connect('data/nyc_parking_violations.db') as con:\n",
    "    #con.sql(sql_query)\n",
    "    display(con.sql(sql_query).df())"
   ]
  },
  {
   "cell_type": "code",
   "execution_count": 50,
   "metadata": {},
   "outputs": [
    {
     "data": {
      "text/html": [
       "<div>\n",
       "<style scoped>\n",
       "    .dataframe tbody tr th:only-of-type {\n",
       "        vertical-align: middle;\n",
       "    }\n",
       "\n",
       "    .dataframe tbody tr th {\n",
       "        vertical-align: top;\n",
       "    }\n",
       "\n",
       "    .dataframe thead th {\n",
       "        text-align: right;\n",
       "    }\n",
       "</style>\n",
       "<table border=\"1\" class=\"dataframe\">\n",
       "  <thead>\n",
       "    <tr style=\"text-align: right;\">\n",
       "      <th></th>\n",
       "      <th>summons_number</th>\n",
       "      <th>registration_state</th>\n",
       "      <th>plate_type</th>\n",
       "      <th>issue_date</th>\n",
       "      <th>violation_code</th>\n",
       "      <th>vehicle_body_type</th>\n",
       "      <th>vehicle_make</th>\n",
       "      <th>issuing_agency</th>\n",
       "      <th>vehicle_expiration_date</th>\n",
       "      <th>violation_location</th>\n",
       "      <th>violation_precinct</th>\n",
       "      <th>issuer_precinct</th>\n",
       "      <th>issuer_code</th>\n",
       "      <th>issuer_command</th>\n",
       "      <th>issuer_squad</th>\n",
       "      <th>violation_time</th>\n",
       "      <th>violation_county</th>\n",
       "      <th>violation_legal_code</th>\n",
       "      <th>vehicle_color</th>\n",
       "      <th>vehicle_year</th>\n",
       "    </tr>\n",
       "  </thead>\n",
       "  <tbody>\n",
       "    <tr>\n",
       "      <th>0</th>\n",
       "      <td>1488028990</td>\n",
       "      <td>NY</td>\n",
       "      <td>PAS</td>\n",
       "      <td>2029-09-11</td>\n",
       "      <td>71</td>\n",
       "      <td>SUBN</td>\n",
       "      <td>HONDA</td>\n",
       "      <td>P</td>\n",
       "      <td>20240724</td>\n",
       "      <td>43</td>\n",
       "      <td>43</td>\n",
       "      <td>0</td>\n",
       "      <td>972408</td>\n",
       "      <td>PSA8</td>\n",
       "      <td>0</td>\n",
       "      <td>0244P</td>\n",
       "      <td>BX</td>\n",
       "      <td>NaN</td>\n",
       "      <td>SL</td>\n",
       "      <td>0</td>\n",
       "    </tr>\n",
       "  </tbody>\n",
       "</table>\n",
       "</div>"
      ],
      "text/plain": [
       "   summons_number registration_state plate_type issue_date  violation_code  \\\n",
       "0      1488028990                 NY        PAS 2029-09-11              71   \n",
       "\n",
       "  vehicle_body_type vehicle_make issuing_agency  vehicle_expiration_date  \\\n",
       "0              SUBN        HONDA              P                 20240724   \n",
       "\n",
       "   violation_location  violation_precinct  issuer_precinct  issuer_code  \\\n",
       "0                  43                  43                0       972408   \n",
       "\n",
       "  issuer_command issuer_squad violation_time violation_county  \\\n",
       "0           PSA8            0          0244P               BX   \n",
       "\n",
       "  violation_legal_code vehicle_color  vehicle_year  \n",
       "0                  NaN            SL             0  "
      ]
     },
     "metadata": {},
     "output_type": "display_data"
    }
   ],
   "source": [
    "sql_query = '''\n",
    "SELECT * FROM \"nyc_parking_violations\".\"main\".\"bronze_parking_violations\"\n",
    "WHERE summons_number = 1488028990\n",
    "'''\n",
    "\n",
    "with duckdb.connect('data/nyc_parking_violations.db') as con:\n",
    "    #con.sql(sql_query)\n",
    "    display(con.sql(sql_query).df())"
   ]
  },
  {
   "cell_type": "code",
   "execution_count": null,
   "metadata": {},
   "outputs": [],
   "source": []
  }
 ],
 "metadata": {
  "kernelspec": {
   "display_name": "Python 3",
   "language": "python",
   "name": "python3"
  },
  "language_info": {
   "codemirror_mode": {
    "name": "ipython",
    "version": 3
   },
   "file_extension": ".py",
   "mimetype": "text/x-python",
   "name": "python",
   "nbconvert_exporter": "python",
   "pygments_lexer": "ipython3",
   "version": "3.9.0"
  },
  "orig_nbformat": 4,
  "vscode": {
   "interpreter": {
    "hash": "31f2aee4e71d21fbe5cf8b01ff0e069b9275f58929596ceb00d14d90e3e16cd6"
   }
  }
 },
 "nbformat": 4,
 "nbformat_minor": 2
}
